{
 "cells": [
  {
   "cell_type": "code",
   "execution_count": 6,
   "metadata": {},
   "outputs": [],
   "source": [
    "import time\n",
    "import os\n",
    "\n",
    "import numpy as np\n",
    "import matplotlib.pyplot as plt\n",
    "plt.rcdefaults()\n",
    "\n",
    "from threedeequadsim import quadsim, controller, trajectory, experiments"
   ]
  },
  {
   "cell_type": "code",
   "execution_count": 3,
   "metadata": {},
   "outputs": [],
   "source": [
    "test_name = 'hover' # {'hover', 'fig-8'}"
   ]
  },
  {
   "cell_type": "code",
   "execution_count": 4,
   "metadata": {},
   "outputs": [],
   "source": [
    "nametag = 'final'"
   ]
  },
  {
   "cell_type": "code",
   "execution_count": 7,
   "metadata": {},
   "outputs": [
    {
     "name": "stdout",
     "output_type": "stream",
     "text": [
      "Created data folder ./plots/2023-05-08/final/\n"
     ]
    }
   ],
   "source": [
    "folder = './plots/' + time.strftime('%Y-%m-%d') + '/' + nametag + '/'\n",
    "if not os.path.isdir(folder):\n",
    "    os.makedirs(folder)\n",
    "    print('Created data folder ' + folder)"
   ]
  },
  {
   "cell_type": "code",
   "execution_count": 8,
   "metadata": {},
   "outputs": [],
   "source": [
    "def savefig(plottag):\n",
    "    plt.savefig(folder + plottag + '.pdf', bbox_inches='tight')\n",
    "# def savefig(plottag):\n",
    "#     pass\n",
    "xyz = ['x', 'y', 'z']"
   ]
  },
  {
   "cell_type": "code",
   "execution_count": 9,
   "metadata": {},
   "outputs": [],
   "source": [
    "eta_a = 0.0075\n",
    "\n",
    "eta_A_threshold_convex = 0.0001\n",
    "eta_A_convex = eta_A_threshold_convex * 1\n",
    "eta_A_biconvex = 0.0002\n",
    "eta_A_deep = 0.05\n",
    "\n",
    "dim_a = 30\n",
    "dim_A = 150\n",
    "layer_sizes = (100, 200)\n",
    "\n",
    "feature_freq = 0.25"
   ]
  },
  {
   "cell_type": "code",
   "execution_count": 10,
   "metadata": {},
   "outputs": [],
   "source": [
    "q_kwargs = {\n",
    "    'Vwind' : np.array((0.0, 0, 0)),            # mean wind speed\n",
    "    'wind_model': 'iid-uniform',                # {'iid', 'random-walk'}\n",
    "    # 'Vwind_cov' : 7.5,                        # how quickly the wind changes\n",
    "    # 'wind_constraint' : 'hard',               # 'hard' wind constraint limits wind speed to be within Vwind_gust of the mean speed\n",
    "    'Vwind_gust' : np.array((5.0, 0., 2.5)),    # for hard wind constrant, wind speed is in the range Vwind +/- Vwind_gust\n",
    "    'wind_update_period' : 2.0,                 # seconds between wind speed changes\n",
    "    't_stop' : 30.,\n",
    "}"
   ]
  },
  {
   "cell_type": "code",
   "execution_count": 11,
   "metadata": {},
   "outputs": [
    {
     "name": "stdout",
     "output_type": "stream",
     "text": [
      "Initializing baseline-omac with dim_a=30, dim_A=150\n",
      "Initializing convex-omac with dim_a=30, dim_A=150\n",
      "Initializing biconvex-omac with dim_a=30, dim_A=150\n",
      "Initializing deep-omac with dim_a=30, layer_sizes=(100, 200)\n"
     ]
    }
   ],
   "source": [
    "CTRLS = [\n",
    "    controller.Baseline(integral_control=False),\n",
    "    controller.MetaAdaptBaseline(eta_a_base=eta_a, dim_a=dim_a, dim_A=dim_A, feature_freq=feature_freq, A_type='random'),\n",
    "    # controller.MetaAdaptConvex(eta_a_base=eta_a, eta_A_base=eta_A_convex, eta_A_threshold=eta_A_threshold_convex, dim_a=dim_a, dim_A=dim_A, feature_freq=feature_freq),\n",
    "    # controller.MetaAdaptBiconvex(eta_a_base=eta_a, eta_A_base=eta_A_biconvex, dim_a=dim_a, dim_A=dim_A, feature_freq=feature_freq),\n",
    "    # controller.MetaAdaptDeep(eta_a_base=eta_a, eta_A_base=eta_A_deep, dim_a=dim_a, layer_sizes=layer_sizes),\n",
    "    controller.Omniscient()\n",
    "]"
   ]
  },
  {
   "cell_type": "code",
   "execution_count": 12,
   "metadata": {},
   "outputs": [],
   "source": [
    "if test_name == 'hover':\n",
    "    T = trajectory.hover\n",
    "\n",
    "    t_kwargs = {\n",
    "        'pd' : np.zeros(3)\n",
    "    }\n",
    "\n",
    "elif test_name == 'fig-8':\n",
    "    T = trajectory.fig8\n",
    "    t_kwargs = {\n",
    "        'T': np.pi * 1.5\n",
    "    }"
   ]
  },
  {
   "cell_type": "code",
   "execution_count": 14,
   "metadata": {},
   "outputs": [
    {
     "name": "stdout",
     "output_type": "stream",
     "text": [
      "120\n",
      "c:  <threedeequadsim.controller.Baseline object at 0x000001F3C9118D00>\n"
     ]
    },
    {
     "name": "stderr",
     "output_type": "stream",
     "text": [
      "3001it [00:48, 61.40it/s]                            \n"
     ]
    },
    {
     "name": "stdout",
     "output_type": "stream",
     "text": [
      "c:  <threedeequadsim.controller.MetaAdaptBaseline object at 0x000001F3B255CC10>\n"
     ]
    },
    {
     "name": "stderr",
     "output_type": "stream",
     "text": [
      "3001it [00:51, 58.16it/s]                            \n"
     ]
    },
    {
     "name": "stdout",
     "output_type": "stream",
     "text": [
      "c:  <threedeequadsim.controller.MetaAdaptConvex object at 0x000001F3B2554A60>\n"
     ]
    },
    {
     "name": "stderr",
     "output_type": "stream",
     "text": [
      "3001it [00:50, 59.93it/s]                            \n"
     ]
    },
    {
     "name": "stdout",
     "output_type": "stream",
     "text": [
      "c:  <threedeequadsim.controller.MetaAdaptBiconvex object at 0x000001F3C9067CD0>\n"
     ]
    },
    {
     "name": "stderr",
     "output_type": "stream",
     "text": [
      "3001it [00:49, 60.41it/s]                            \n"
     ]
    },
    {
     "name": "stdout",
     "output_type": "stream",
     "text": [
      "c:  <threedeequadsim.controller.MetaAdaptDeep object at 0x000001F3C9067EE0>\n"
     ]
    },
    {
     "name": "stderr",
     "output_type": "stream",
     "text": [
      "3001it [01:17, 38.59it/s]                            \n"
     ]
    },
    {
     "name": "stdout",
     "output_type": "stream",
     "text": [
      "c:  <threedeequadsim.controller.Omniscient object at 0x000001F3B2538B50>\n"
     ]
    },
    {
     "name": "stderr",
     "output_type": "stream",
     "text": [
      "3001it [00:47, 63.44it/s]                            \n"
     ]
    }
   ],
   "source": [
    "Data = []\n",
    "seed = np.random.randint(np.iinfo(np.uint).max, dtype=np.uint)\n",
    "seed = 120\n",
    "print(seed)\n",
    "for c in CTRLS:\n",
    "    print(\"c: \", c)\n",
    "    q = quadsim.QuadrotorWithSideForce(**q_kwargs, )    # create a quadrotor object\n",
    "    t = T(**t_kwargs)                                   # create a trajectory object and initialize the trajectory\n",
    "\n",
    "    data = q.run(trajectory=t, controller=c, seed=seed)  # run the simulation\n",
    "                                                        # note: this will set the seed, call c.reset_controller(), then reset the seed again\n",
    "    Data.append(data)                                   # save the results"
   ]
  },
  {
   "cell_type": "code",
   "execution_count": 16,
   "metadata": {},
   "outputs": [
    {
     "name": "stdout",
     "output_type": "stream",
     "text": [
      "pid\n",
      "baseline-omac\n",
      "convex-omac\n",
      "biconvex-omac\n",
      "deep-omac\n",
      "omniscient\n",
      "(0, 1)\n",
      "(1, 2)\n",
      "(2, 3)\n"
     ]
    }
   ],
   "source": [
    "for tmp in CTRLS:\n",
    "    print(tmp._name)\n",
    "for tmp in enumerate([1,2,3]):\n",
    "    print(tmp)"
   ]
  },
  {
   "cell_type": "code",
   "execution_count": 25,
   "metadata": {},
   "outputs": [
    {
     "name": "stdout",
     "output_type": "stream",
     "text": [
      "     Controller,    ACE, Steady State ACE\n",
      "            pid, 0.2991, 0.2819\n",
      "  baseline-omac, 0.1986, 0.1748\n",
      "     omniscient, 0.0330, 0.0300\n"
     ]
    }
   ],
   "source": [
    "print('%15s, %6s, %15s' % ('Controller', 'ACE', 'Steady State ACE'))\n",
    "\n",
    "err = []\n",
    "err_ss = []\n",
    "for i, (c, data) in enumerate(zip(CTRLS, Data)):\n",
    "    err.append(experiments.get_error(data['X'], data['pd']))\n",
    "    err_ss.append(experiments.get_error(data['X'], data['pd'], istart=1000)) # ss=steady state\n",
    "    print('%15s, %5.4f, %5.4f' % (c._name, err[-1]['meanerr'], err_ss[-1]['meanerr']))"
   ]
  },
  {
   "cell_type": "code",
   "execution_count": 31,
   "metadata": {},
   "outputs": [
    {
     "data": {
      "text/plain": [
       "({'rmse': 0.22697812966395076,\n",
       "  'fifth': 0.12677225507388518,\n",
       "  'ninetyfifth': 0.26033798125276136,\n",
       "  'meanerr': 0.19856357788155835,\n",
       "  'maxerr': 0.429560220291965},\n",
       " 0.19856357788155835)"
      ]
     },
     "execution_count": 31,
     "metadata": {},
     "output_type": "execute_result"
    }
   ],
   "source": [
    "# a=experiments.get_error(Data[1]['X'], Data[1]['pd'])\n",
    "# b=experiments.get_error(Data[1]['X'], Data[1]['pd'])['meanerr']\n",
    "# a,b"
   ]
  },
  {
   "cell_type": "code",
   "execution_count": 18,
   "metadata": {},
   "outputs": [],
   "source": [
    "color = ((1,0,0), (0,1,0), (0,0,1)) # colors for x, y and z directions"
   ]
  },
  {
   "cell_type": "code",
   "execution_count": 22,
   "metadata": {},
   "outputs": [],
   "source": [
    "# CTRLS_bak = CTRLS\n",
    "# Data_bak = Data\n",
    "# CTRLS = [CTRLS_bak[0],CTRLS_bak[1],CTRLS_bak[-1]]\n",
    "# Data = [Data_bak[0],Data_bak[1],Data_bak[-1]]"
   ]
  },
  {
   "cell_type": "code",
   "execution_count": 23,
   "metadata": {},
   "outputs": [
    {
     "name": "stdout",
     "output_type": "stream",
     "text": [
      "baseline-omac\n"
     ]
    },
    {
     "data": {
      "image/png": "[encoded data removed]",
      "text/plain": [
       "<Figure size 1200x500 with 2 Axes>"
      ]
     },
     "metadata": {},
     "output_type": "display_data"
    }
   ],
   "source": [
    "fig = plt.figure(figsize=(12, 5))\n",
    "# gs = fig.add_gridspec(2,2)\n",
    "rows = 1\n",
    "cols = 4 # int(len(Data)/rows)\n",
    "gs = plt.GridSpec(2 * rows, cols)\n",
    "for j, data in enumerate(Data):\n",
    "    if CTRLS[j]._name in ('pid', 'omniscient'):\n",
    "        continue\n",
    "    \n",
    "    print(CTRLS[j]._name)\n",
    "\n",
    "    row = 0\n",
    "    col = j - 1\n",
    "\n",
    "    # Plot position tracking\n",
    "    ax = fig.add_subplot(gs[row*2, col])\n",
    "    for i in [0, 2]: # only plot x and z\n",
    "        plt.plot(data['t'], data['X'][:,i], label=r'$p_' + xyz[i] + '$', color = color[i])\n",
    "    # Plot vertical lines for each environment switch\n",
    "    for t in data['t'][data['meta_adapt_trigger']]:\n",
    "        plt.axvline(t, ls=':', color='k', lw=0.5)\n",
    "\n",
    "    plt.margins(x=0)\n",
    "\n",
    "    if j == 1: # len(Data) - 2:\n",
    "        plt.legend(loc = 'upper right')\n",
    "    plt.plot(data['t'], data['pd'][:,i], 'k:',)\n",
    "    ax.axes.xaxis.set_ticklabels([])\n",
    "    if col == 0:\n",
    "        plt.ylabel('Position [m]')\n",
    "    else:\n",
    "        ax.axes.yaxis.set_ticklabels([])\n",
    "    plt.ylim((-0.5, 0.5))\n",
    "    plt.title(CTRLS[j].name_long + '\\n$ACE=%.3f m$' % (err[j]['meanerr'], ))\n",
    "\n",
    "    # Plot force estimation\n",
    "    ax = fig.add_subplot(gs[row*2+1, col])\n",
    "    for i in [0, 2]:\n",
    "        plt.plot(data['t'], data['Fs'][:,i], '--', label=r'$f_' + xyz[i] + '$', color = color[i])\n",
    "        if CTRLS[j]._name == 'baseline':\n",
    "            plt.plot(data['t'], -data['i_term'][:,i], '-', label=r'$K_i\\int\\tilde{p}_' + xyz[i] + 'dt$', color = color[i])\n",
    "        else:\n",
    "            plt.plot(data['t'], data['f_hat'][:,0,i], '-', label=r'$\\hat{f}_' + xyz[i] + '$', color = color[i])\n",
    "    # Plot vertical lines for environment changes\n",
    "    for t in data['t'][data['meta_adapt_trigger']]:\n",
    "        plt.axvline(t, ls=':', color='k', lw=0.5)\n",
    "    \n",
    "    plt.margins(x=0)\n",
    "\n",
    "    if j == 1 : # len(Data) - 2:\n",
    "        plt.legend(loc = 'upper right')\n",
    "    if row == rows-1:\n",
    "        plt.xlabel('Time [s]')\n",
    "    else: \n",
    "        ax.axes.xaxis.set_ticklabels([])\n",
    "    if col == 0:\n",
    "        plt.ylabel('Force [N]')\n",
    "    else:\n",
    "        ax.axes.yaxis.set_ticklabels([])\n",
    "    plt.ylim((-8,8))\n",
    "\n",
    "plt.tight_layout()\n",
    "savefig('performance_combined')"
   ]
  }
 ],
 "metadata": {
  "interpreter": {
   "hash": "efbe968048790da5e26fe224257c59db0c3c3cb10bbad9ca12250f2d56e94a61"
  },
  "kernelspec": {
   "display_name": "Python 3 (ipykernel)",
   "language": "python",
   "name": "python3"
  },
  "language_info": {
   "codemirror_mode": {
    "name": "ipython",
    "version": 3
   },
   "file_extension": ".py",
   "mimetype": "text/x-python",
   "name": "python",
   "nbconvert_exporter": "python",
   "pygments_lexer": "ipython3",
   "version": "3.9.13"
  }
 },
 "nbformat": 4,
 "nbformat_minor": 2
}
